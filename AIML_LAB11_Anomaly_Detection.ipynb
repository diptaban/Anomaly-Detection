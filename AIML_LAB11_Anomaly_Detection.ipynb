{
  "nbformat": 4,
  "nbformat_minor": 0,
  "metadata": {
    "colab": {
      "provenance": [],
      "collapsed_sections": [],
      "authorship_tag": "ABX9TyO/KtyIM5O0XosWZ6Dm9m7r",
      "include_colab_link": true
    },
    "kernelspec": {
      "name": "python3",
      "display_name": "Python 3"
    },
    "language_info": {
      "name": "python"
    }
  },
  "cells": [
    {
      "cell_type": "markdown",
      "metadata": {
        "id": "view-in-github",
        "colab_type": "text"
      },
      "source": [
        "<a href=\"https://colab.research.google.com/github/diptaban/Anomaly-Detection/blob/main/AIML_LAB11_Anomaly_Detection.ipynb\" target=\"_parent\"><img src=\"https://colab.research.google.com/assets/colab-badge.svg\" alt=\"Open In Colab\"/></a>"
      ]
    },
    {
      "cell_type": "markdown",
      "source": [
        "# Anomaly Detection\n",
        "## Density Estimation"
      ],
      "metadata": {
        "id": "Qzob5Nf5ymeC"
      }
    },
    {
      "cell_type": "code",
      "execution_count": null,
      "metadata": {
        "colab": {
          "base_uri": "https://localhost:8080/",
          "height": 265
        },
        "id": "IrFFMD6QZKdl",
        "outputId": "9cac3810-60c1-4838-e5f2-664c2d461f00"
      },
      "outputs": [
        {
          "output_type": "display_data",
          "data": {
            "text/plain": [
              "<Figure size 432x288 with 1 Axes>"
            ],
            "image/png": "[encoded data removed]"
          },
          "metadata": {
            "needs_background": "light"
          }
        }
      ],
      "source": [
        "import numpy as np\n",
        "import matplotlib.pyplot as plt\n",
        "\n",
        "# normal distribution function\n",
        "def normalDist_(x,mu,sig):\n",
        "  c = (1/(2*np.pi*sig**2)**0.5)\n",
        "  a = (x-mu)**2\n",
        "  d = 2*(sig**2)\n",
        "  N = c*np.exp(-a/d)\n",
        "  plt.plot(x,N)\n",
        "  return N\n",
        "\n",
        "mu1 = 1\n",
        "sig1 = 2\n",
        "x1 = np.linspace(-(mu1+sig1*5),mu1+sig1*5,1000)\n",
        "N1 = normalDist_(x1,mu1,sig1)\n",
        "\n",
        "mu2 = -10\n",
        "sig2 = 5\n",
        "x2 = np.linspace(-(mu2+sig2*5),mu2+sig2*5,1000)\n",
        "N2 = normalDist_(x2,mu2,sig2)\n"
      ]
    },
    {
      "cell_type": "code",
      "source": [
        "X=np.array([[0,1.5],[2.0,1.6],[2.1,1.65],[2.4,1.8],[2.6,3],[3,1.5],[3.2,1.9],[3.5,1.7],[4,2],[4.5,2.1],[4.9,2.6],[5,1.6],\n",
        "            [6,2.3],[7,2.5],[7.2,1.9],[8,2.4],[8.5,2.6],[8.9,1.5],[9.5,2],[10,2.6]])\n",
        "\n",
        "plt.plot(X[:,0],X[:,1],'rx')\n",
        "\n",
        "plt.axis([-2, 15, -5, 8])"
      ],
      "metadata": {
        "colab": {
          "base_uri": "https://localhost:8080/",
          "height": 286
        },
        "id": "1-yPYkeHcURB",
        "outputId": "3f65d4be-3615-4107-814c-f9e74ccc2698"
      },
      "execution_count": null,
      "outputs": [
        {
          "output_type": "execute_result",
          "data": {
            "text/plain": [
              "(-2.0, 15.0, -5.0, 8.0)"
            ]
          },
          "metadata": {},
          "execution_count": 2
        },
        {
          "output_type": "display_data",
          "data": {
            "text/plain": [
              "<Figure size 432x288 with 1 Axes>"
            ],
            "image/png": "[encoded data removed]"
          },
          "metadata": {
            "needs_background": "light"
          }
        }
      ]
    },
    {
      "cell_type": "code",
      "source": [
        "# checking covariance matrix\n",
        "def covX_(X):\n",
        "  #X should have dimension (mxn) where m = no. of samples, n = no. of dimension\n",
        "  mu_X = X.mean(axis=0)\n",
        "  X_m = X-mu_X\n",
        "  #print(X_m)\n",
        "  return(1/(np.shape(X)[0]-1))*X_m.T.dot(X_m)\n",
        "\n",
        "\n",
        "\n",
        "print(covX_(X))\n",
        "\n",
        "print(np.cov(X.T))"
      ],
      "metadata": {
        "colab": {
          "base_uri": "https://localhost:8080/"
        },
        "id": "efk_7Zwoe5EY",
        "outputId": "84e2a602-646c-429c-9d1c-347bdcaf4644"
      },
      "execution_count": null,
      "outputs": [
        {
          "output_type": "stream",
          "name": "stdout",
          "text": [
            "[[8.26134211 0.51046053]\n",
            " [0.51046053 0.20549342]]\n",
            "[[8.26134211 0.51046053]\n",
            " [0.51046053 0.20549342]]\n"
          ]
        }
      ]
    },
    {
      "cell_type": "code",
      "source": [
        "mu1 = np.mean(X[:,0])\n",
        "#print(m1)\n",
        "sig1 = np.std(X[:,0])\n",
        "#print(sig1)\n",
        "\n",
        "mu2 = np.mean(X[:,1])\n",
        "#print(m2)\n",
        "sig2 = np.std(X[:,1])\n",
        "#print(sig2)\n",
        "\n",
        "x1 = np.linspace(-(mu1+sig1*5),mu1+sig1*5,1000)\n",
        "N1 = normalDist_(x1,mu1,sig1)\n",
        "\n",
        "x2 = np.linspace(-(mu2+sig2*5),mu2+sig2*5,1000)\n",
        "N2 = normalDist_(x2,mu2,sig2)\n",
        "\n",
        "N = N1*N2\n",
        "plt.plot(x2,N)\n",
        "\n",
        "x1test = 6\n",
        "px1 = normalDist_(x1test,mu1,sig1)\n",
        "#print(px1)\n",
        "\n",
        "x2test = 2.5\n",
        "px2 = normalDist_(x2test,mu2,sig2)\n",
        "#print(px2)\n",
        "pxtest = px1*px2\n",
        "print(pxtest)"
      ],
      "metadata": {
        "colab": {
          "base_uri": "https://localhost:8080/",
          "height": 282
        },
        "id": "oxebXX99iYs8",
        "outputId": "00145d47-ace3-464f-b1f2-8eaf1148527b"
      },
      "execution_count": null,
      "outputs": [
        {
          "output_type": "stream",
          "name": "stdout",
          "text": [
            "0.07072419441768353\n"
          ]
        },
        {
          "output_type": "display_data",
          "data": {
            "text/plain": [
              "<Figure size 432x288 with 1 Axes>"
            ],
            "image/png": "[encoded data removed]"
          },
          "metadata": {
            "needs_background": "light"
          }
        }
      ]
    },
    {
      "cell_type": "code",
      "source": [
        "plt.plot(X[:,0],X[:,1],'rx')\n",
        "plt.plot(x1test,x2test,'k*')\n",
        "plt.axis([-2, 15, -5, 8])"
      ],
      "metadata": {
        "colab": {
          "base_uri": "https://localhost:8080/",
          "height": 286
        },
        "id": "7VDkxOgOm_8D",
        "outputId": "91b12d45-f0e5-4bbc-daae-22b40d171453"
      },
      "execution_count": null,
      "outputs": [
        {
          "output_type": "execute_result",
          "data": {
            "text/plain": [
              "(-2.0, 15.0, -5.0, 8.0)"
            ]
          },
          "metadata": {},
          "execution_count": 5
        },
        {
          "output_type": "display_data",
          "data": {
            "text/plain": [
              "<Figure size 432x288 with 1 Axes>"
            ],
            "image/png": "[encoded data removed]"
          },
          "metadata": {
            "needs_background": "light"
          }
        }
      ]
    }
  ]
}